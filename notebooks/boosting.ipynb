{
 "cells": [
  {
   "cell_type": "code",
   "execution_count": 1,
   "id": "7b7b0080-dfff-42fb-9e02-27a55c3f02e6",
   "metadata": {
    "tags": []
   },
   "outputs": [],
   "source": [
    "import matplotlib.pyplot as plt\n",
    "import numpy as np\n",
    "import pandas as pd"
   ]
  },
  {
   "cell_type": "code",
   "execution_count": 2,
   "id": "67a4cc7d-5be0-420a-8057-d60b63bad2ff",
   "metadata": {
    "tags": []
   },
   "outputs": [
    {
     "data": {
      "text/html": [
       "<div>\n",
       "<style scoped>\n",
       "    .dataframe tbody tr th:only-of-type {\n",
       "        vertical-align: middle;\n",
       "    }\n",
       "\n",
       "    .dataframe tbody tr th {\n",
       "        vertical-align: top;\n",
       "    }\n",
       "\n",
       "    .dataframe thead th {\n",
       "        text-align: right;\n",
       "    }\n",
       "</style>\n",
       "<table border=\"1\" class=\"dataframe\">\n",
       "  <thead>\n",
       "    <tr style=\"text-align: right;\">\n",
       "      <th></th>\n",
       "      <th>category</th>\n",
       "      <th>name</th>\n",
       "    </tr>\n",
       "  </thead>\n",
       "  <tbody>\n",
       "    <tr>\n",
       "      <th>0</th>\n",
       "      <td>Канцтовары</td>\n",
       "      <td>Скетчбук А5, блокнот для скетчинга</td>\n",
       "    </tr>\n",
       "    <tr>\n",
       "      <th>1</th>\n",
       "      <td>Канцтовары</td>\n",
       "      <td>Блокнот</td>\n",
       "    </tr>\n",
       "    <tr>\n",
       "      <th>2</th>\n",
       "      <td>Канцтовары</td>\n",
       "      <td>для принтера, 2500</td>\n",
       "    </tr>\n",
       "    <tr>\n",
       "      <th>3</th>\n",
       "      <td>Канцтовары</td>\n",
       "      <td>Бумага а4 для принтера оргтехники</td>\n",
       "    </tr>\n",
       "    <tr>\n",
       "      <th>4</th>\n",
       "      <td>Канцтовары</td>\n",
       "      <td>Бумага а4 для принтера оргтехники</td>\n",
       "    </tr>\n",
       "  </tbody>\n",
       "</table>\n",
       "</div>"
      ],
      "text/plain": [
       "     category                                name\n",
       "0  Канцтовары  Скетчбук А5, блокнот для скетчинга\n",
       "1  Канцтовары                             Блокнот\n",
       "2  Канцтовары                  для принтера, 2500\n",
       "3  Канцтовары   Бумага а4 для принтера оргтехники\n",
       "4  Канцтовары   Бумага а4 для принтера оргтехники"
      ]
     },
     "execution_count": 2,
     "metadata": {},
     "output_type": "execute_result"
    }
   ],
   "source": [
    "products_df = pd.read_csv(\"../data/products.csv\", sep=\";\")[[\"category\", \"name\"]]\n",
    "products_df.head()"
   ]
  },
  {
   "cell_type": "code",
   "execution_count": 3,
   "id": "51f57bf9-f58a-408c-8e1f-912dde06f03a",
   "metadata": {
    "tags": []
   },
   "outputs": [
    {
     "data": {
      "text/html": [
       "<div>\n",
       "<style scoped>\n",
       "    .dataframe tbody tr th:only-of-type {\n",
       "        vertical-align: middle;\n",
       "    }\n",
       "\n",
       "    .dataframe tbody tr th {\n",
       "        vertical-align: top;\n",
       "    }\n",
       "\n",
       "    .dataframe thead th {\n",
       "        text-align: right;\n",
       "    }\n",
       "</style>\n",
       "<table border=\"1\" class=\"dataframe\">\n",
       "  <thead>\n",
       "    <tr style=\"text-align: right;\">\n",
       "      <th></th>\n",
       "      <th>category</th>\n",
       "      <th>term</th>\n",
       "      <th>tf_idf</th>\n",
       "    </tr>\n",
       "  </thead>\n",
       "  <tbody>\n",
       "    <tr>\n",
       "      <th>32637</th>\n",
       "      <td>Мужчинам</td>\n",
       "      <td>одноразов</td>\n",
       "      <td>0.000066</td>\n",
       "    </tr>\n",
       "    <tr>\n",
       "      <th>17491</th>\n",
       "      <td>Дом</td>\n",
       "      <td>быстрый</td>\n",
       "      <td>0.000103</td>\n",
       "    </tr>\n",
       "    <tr>\n",
       "      <th>27281</th>\n",
       "      <td>Зоотовары</td>\n",
       "      <td>курицей</td>\n",
       "      <td>0.000947</td>\n",
       "    </tr>\n",
       "    <tr>\n",
       "      <th>15579</th>\n",
       "      <td>Бытовая техника</td>\n",
       "      <td>ароматизатор</td>\n",
       "      <td>0.001384</td>\n",
       "    </tr>\n",
       "    <tr>\n",
       "      <th>6543</th>\n",
       "      <td>Электроника</td>\n",
       "      <td>cam</td>\n",
       "      <td>0.002447</td>\n",
       "    </tr>\n",
       "  </tbody>\n",
       "</table>\n",
       "</div>"
      ],
      "text/plain": [
       "              category          term    tf_idf\n",
       "32637         Мужчинам     одноразов  0.000066\n",
       "17491              Дом       быстрый  0.000103\n",
       "27281        Зоотовары       курицей  0.000947\n",
       "15579  Бытовая техника  ароматизатор  0.001384\n",
       "6543       Электроника           cam  0.002447"
      ]
     },
     "execution_count": 3,
     "metadata": {},
     "output_type": "execute_result"
    }
   ],
   "source": [
    "tfidf_df = pd.read_csv('../data/tfidf_terms.csv', index_col=0)\n",
    "tfidf_df.sample(5)"
   ]
  },
  {
   "cell_type": "code",
   "execution_count": 4,
   "id": "19e32ab0-9808-4ed8-baa4-887d1074437d",
   "metadata": {
    "tags": []
   },
   "outputs": [],
   "source": [
    "import sys\n",
    "sys.path.append('..')"
   ]
  },
  {
   "cell_type": "code",
   "execution_count": 5,
   "id": "72f78a2a-eb46-4235-b8eb-f03bb4675d68",
   "metadata": {
    "tags": []
   },
   "outputs": [],
   "source": [
    "from hoko.impurity import gini_impurity, gini_split"
   ]
  },
  {
   "cell_type": "code",
   "execution_count": 6,
   "id": "e0bdd425-1066-43c4-ac85-8a9f3d157865",
   "metadata": {
    "tags": []
   },
   "outputs": [
    {
     "data": {
      "text/plain": [
       "0.0032659251981170456"
      ]
     },
     "execution_count": 6,
     "metadata": {},
     "output_type": "execute_result"
    }
   ],
   "source": [
    "threshold = .0032659251981170456\n",
    "threshold"
   ]
  },
  {
   "cell_type": "code",
   "execution_count": 7,
   "id": "fee86053-757f-4ae5-8259-af8e23f2eae0",
   "metadata": {
    "tags": []
   },
   "outputs": [
    {
     "data": {
      "text/html": [
       "<div>\n",
       "<style scoped>\n",
       "    .dataframe tbody tr th:only-of-type {\n",
       "        vertical-align: middle;\n",
       "    }\n",
       "\n",
       "    .dataframe tbody tr th {\n",
       "        vertical-align: top;\n",
       "    }\n",
       "\n",
       "    .dataframe thead th {\n",
       "        text-align: right;\n",
       "    }\n",
       "</style>\n",
       "<table border=\"1\" class=\"dataframe\">\n",
       "  <thead>\n",
       "    <tr style=\"text-align: right;\">\n",
       "      <th></th>\n",
       "      <th>category</th>\n",
       "      <th>term</th>\n",
       "      <th>tf_idf</th>\n",
       "    </tr>\n",
       "  </thead>\n",
       "  <tbody>\n",
       "    <tr>\n",
       "      <th>17123</th>\n",
       "      <td>Обувь</td>\n",
       "      <td>ботинк</td>\n",
       "      <td>0.199542</td>\n",
       "    </tr>\n",
       "    <tr>\n",
       "      <th>5316</th>\n",
       "      <td>Ювелирные изделия</td>\n",
       "      <td>925</td>\n",
       "      <td>0.094208</td>\n",
       "    </tr>\n",
       "    <tr>\n",
       "      <th>47470</th>\n",
       "      <td>Ювелирные изделия</td>\n",
       "      <td>ювелирн</td>\n",
       "      <td>0.087382</td>\n",
       "    </tr>\n",
       "    <tr>\n",
       "      <th>26596</th>\n",
       "      <td>Зоотовары</td>\n",
       "      <td>кошек</td>\n",
       "      <td>0.077405</td>\n",
       "    </tr>\n",
       "    <tr>\n",
       "      <th>39588</th>\n",
       "      <td>Ювелирные изделия</td>\n",
       "      <td>серьг</td>\n",
       "      <td>0.074053</td>\n",
       "    </tr>\n",
       "  </tbody>\n",
       "</table>\n",
       "</div>"
      ],
      "text/plain": [
       "                category     term    tf_idf\n",
       "17123              Обувь   ботинк  0.199542\n",
       "5316   Ювелирные изделия      925  0.094208\n",
       "47470  Ювелирные изделия  ювелирн  0.087382\n",
       "26596          Зоотовары    кошек  0.077405\n",
       "39588  Ювелирные изделия    серьг  0.074053"
      ]
     },
     "execution_count": 7,
     "metadata": {},
     "output_type": "execute_result"
    }
   ],
   "source": [
    "tfidf_df = tfidf_df.loc[tfidf_df[\"tf_idf\"] > threshold].sort_values(by=\"tf_idf\", ascending=False)\n",
    "tfidf_df.head()"
   ]
  },
  {
   "cell_type": "code",
   "execution_count": 8,
   "id": "7b39a75a-8d27-42b7-8613-3162ccde5af0",
   "metadata": {
    "tags": []
   },
   "outputs": [],
   "source": [
    "def df_split(*, df: pd.DataFrame, token: str | list[str], anti_token: str | list[str], expected_class: str, relation: str = \"token in\"):\n",
    "    \"\"\"relation : `token in` or `token not in`\n",
    "    \"\"\"\n",
    "    if relation not in (\"token in\", \"token not in\"):\n",
    "        msg = \"relation must be `token in` or `token not in`\"\n",
    "        raise ValueError(msg)\n",
    "    \n",
    "    if isinstance(token, str):\n",
    "        token = [token,]\n",
    "    \n",
    "    if isinstance(anti_token, str):\n",
    "        anti_token = [anti_token,]\n",
    "    \n",
    "    def check_ok(line):\n",
    "        ll = line.lower()\n",
    "        return any([t in ll for t in token]) and not any([at in ll for at in anti_token])\n",
    "    \n",
    "    mask = products_df[\"name\"].apply(lambda x: check_ok(x))\n",
    "    split_left = products_df.loc[mask]\n",
    "    split_right = products_df.loc[~mask]\n",
    "    \n",
    "    evaluate_split = split_left if relation == \"token in\" else split_right\n",
    "    k, v = np.unique(evaluate_split[\"category\"] == expected_class, return_counts=True)\n",
    "    d = { kk : vv for kk, vv in zip(k, v) }\n",
    "    ngood = d.get(True, 0)\n",
    "    nbad = d.get(False, 0)\n",
    "    \n",
    "    if relation != \"token in\":\n",
    "        ngood, nbad = nbad, ngood\n",
    "    \n",
    "    gini_split_score = gini_split(ngood, nbad)\n",
    "    \n",
    "    return split_left, split_right, gini_split_score"
   ]
  },
  {
   "cell_type": "code",
   "execution_count": 9,
   "id": "c91bffd9-1921-4733-b3c9-fad373038515",
   "metadata": {
    "tags": []
   },
   "outputs": [],
   "source": [
    "def learn_class(*, _df: pd.DataFrame, _tf_idf: pd.DataFrame, expected_class: str):\n",
    "    tf_idf_left = _tf_idf\n",
    "    \n",
    "    top_10 = tf_idf_left.loc[tf_idf_left[\"category\"] == expected_class].sort_values(by=\"tf_idf\", ascending=False)[\"term\"][:10]\n",
    "    tf_idf_left = tf_idf_left.loc[tf_idf_left[\"term\"].apply(lambda x: x not in top_10)]"
   ]
  },
  {
   "cell_type": "markdown",
   "id": "c78c5a9e-a94f-40ec-8d3a-29d3fee7d676",
   "metadata": {},
   "source": [
    "---"
   ]
  },
  {
   "cell_type": "code",
   "execution_count": 10,
   "id": "cc6bac06-73e2-4d74-a729-fd0dd0e8d610",
   "metadata": {
    "tags": []
   },
   "outputs": [],
   "source": [
    "def quick_mask(*, df: pd.DataFrame, token: str, expected_class: str, not_in = False):\n",
    "    mask = df[\"name\"].apply(lambda x: token not in x.lower() if not_in else token in x.lower())\n",
    "    split_left = df.loc[mask]\n",
    "    split_right = df.loc[~mask]\n",
    "    \n",
    "    evaluate_split = split_left\n",
    "    k, v = np.unique(evaluate_split[\"category\"] == expected_class, return_counts=True)\n",
    "    d = { kk : vv for kk, vv in zip(k, v) }\n",
    "    ngood = d.get(True, 0)\n",
    "    nbad = d.get(False, 0)\n",
    "    \n",
    "    return gini_impurity([ngood, nbad])"
   ]
  },
  {
   "cell_type": "code",
   "execution_count": 11,
   "id": "4cedf5e4-827a-4846-97f3-145e4ed90fc1",
   "metadata": {
    "tags": []
   },
   "outputs": [
    {
     "data": {
      "text/plain": [
       "(71,\n",
       " 17123      ботинк\n",
       " 23298        зимн\n",
       " 38956       сапог\n",
       " 46683       шнурк\n",
       " 26987    кроссовк\n",
       " Name: term, dtype: object)"
      ]
     },
     "execution_count": 11,
     "metadata": {},
     "output_type": "execute_result"
    }
   ],
   "source": [
    "tf_idf_left = tfidf_df\n",
    "\n",
    "good_terms = tf_idf_left.loc[tf_idf_left[\"category\"] == \"Обувь\"].sort_values(by=\"tf_idf\", ascending=False)[\"term\"]\n",
    "# tf_idf_left = tf_idf_left.loc[tf_idf_left[\"term\"].apply(lambda x: x not in top_10)]\n",
    "good_terms.shape[0], good_terms.head()"
   ]
  },
  {
   "cell_type": "code",
   "execution_count": 12,
   "id": "8778326b-6e48-4c57-bb40-9a4c1dd24ac7",
   "metadata": {
    "tags": []
   },
   "outputs": [
    {
     "name": "stdout",
     "output_type": "stream",
     "text": [
      "CPU times: user 3.86 s, sys: 5.01 ms, total: 3.86 s\n",
      "Wall time: 3.92 s\n"
     ]
    }
   ],
   "source": [
    "%%time\n",
    "good_gini_scores = [\n",
    "    quick_mask(\n",
    "        df=products_df,\n",
    "        token=token,\n",
    "        expected_class=\"Обувь\"\n",
    "    )\n",
    "    for token in good_terms\n",
    "]"
   ]
  },
  {
   "cell_type": "code",
   "execution_count": 13,
   "id": "31a67e6c-4920-47c7-88cf-11b35f707eeb",
   "metadata": {
    "tags": []
   },
   "outputs": [
    {
     "data": {
      "text/plain": [
       "26988     кроссовок\n",
       "17127       ботфорт\n",
       "7053       crocband\n",
       "38224         рожок\n",
       "21228       джибитс\n",
       "35198        подошв\n",
       "35665    полусапожк\n",
       "11873          qing\n",
       "6058           baya\n",
       "29844      мистраль\n",
       "Name: term, dtype: object"
      ]
     },
     "execution_count": 13,
     "metadata": {},
     "output_type": "execute_result"
    }
   ],
   "source": [
    "top10_good_terms = good_terms.iloc[np.argsort(good_gini_scores)[:10]]\n",
    "top10_good_terms"
   ]
  },
  {
   "cell_type": "code",
   "execution_count": 14,
   "id": "9daa9150-b9de-4e76-9742-a044b94ee74e",
   "metadata": {
    "tags": []
   },
   "outputs": [],
   "source": [
    "def check_in(line, toks):\n",
    "    if len(toks) == 0:\n",
    "        return True\n",
    "    line = line.lower()\n",
    "    return any([t in line for t in toks])\n",
    "\n",
    "def check_not_in(line, toks):\n",
    "    if len(toks) == 0:\n",
    "        return True\n",
    "    line = line.lower()\n",
    "    return all([t not in line for t in toks])\n",
    "\n",
    "def learn_class(*, _df: pd.DataFrame, _tfidf: pd.DataFrame, expected_class: str):\n",
    "    good_terms = _tfidf[\"term\"].loc[_tfidf[\"category\"] == expected_class]\n",
    "    \n",
    "    good_gini_scores = [\n",
    "        quick_mask(\n",
    "            df=_df,\n",
    "            token=token,\n",
    "            expected_class=expected_class,\n",
    "        )\n",
    "        for token in good_terms\n",
    "    ]\n",
    "    \n",
    "    top10_good_terms = good_terms.iloc[np.argsort(good_gini_scores)[:10]].to_list()\n",
    "    \n",
    "    good_df = _df.loc[_df[\"name\"].apply(lambda x: check_in(x, top10_good_terms))]\n",
    "    \n",
    "    if good_df[\"category\"].unique().shape[0] == 1:\n",
    "        return top10_good_terms, []\n",
    "    \n",
    "    \n",
    "    bad_terms = _tfidf[\"term\"].loc[_tfidf[\"category\"] != expected_class]\n",
    "    \n",
    "    bad_gini_scores = [\n",
    "        quick_mask(\n",
    "            df=good_df,\n",
    "            token=token,\n",
    "            expected_class=expected_class,\n",
    "            not_in=True\n",
    "        )\n",
    "        for token in bad_terms\n",
    "    ]\n",
    "    \n",
    "    top10_bad_terms = bad_terms.iloc[np.argsort(bad_gini_scores)[:10]].to_list()\n",
    "    \n",
    "    return top10_good_terms, top10_bad_terms"
   ]
  },
  {
   "cell_type": "code",
   "execution_count": 15,
   "id": "3353f1dd-c863-45a2-9bbf-924b83776776",
   "metadata": {
    "tags": []
   },
   "outputs": [
    {
     "data": {
      "text/plain": [
       "array(['Канцтовары', 'Женщинам', 'Дом', 'Мужчинам', 'Книги', 'Аксессуары',\n",
       "       'Зоотовары', 'Обувь', 'Мебель', 'Бытовая техника', 'Красота',\n",
       "       'Здоровье', 'Для ремонта', 'Автотовары', 'Продукты', 'Игрушки',\n",
       "       'Электроника', 'Детям', 'Ювелирные изделия', 'Сад и дача'],\n",
       "      dtype=object)"
      ]
     },
     "execution_count": 15,
     "metadata": {},
     "output_type": "execute_result"
    }
   ],
   "source": [
    "products_df[\"category\"].unique()"
   ]
  },
  {
   "cell_type": "code",
   "execution_count": 16,
   "id": "f2e481f1-4c93-47a8-862c-0c099ea12c51",
   "metadata": {
    "tags": []
   },
   "outputs": [],
   "source": [
    "from tqdm.notebook import tqdm"
   ]
  },
  {
   "cell_type": "code",
   "execution_count": 17,
   "id": "5611f40c-33f9-4fc4-bef9-8bf8e7826396",
   "metadata": {
    "tags": []
   },
   "outputs": [],
   "source": [
    "def learn_all(*, _df: pd.DataFrame, _tfidf: pd.DataFrame):\n",
    "    all_categories = _df[\"category\"].unique()\n",
    "    \n",
    "    out = dict()\n",
    "    \n",
    "    for category in tqdm(all_categories):\n",
    "        print(category)\n",
    "        t_in, t_not_in = learn_class(\n",
    "            _df=_df,\n",
    "            _tfidf=_tfidf,\n",
    "            expected_class=category,\n",
    "        )\n",
    "        \n",
    "        out[category] = t_in, t_not_in\n",
    "        \n",
    "        # _df = _df.loc[_df[\"name\"].apply(lambda x: not (check_in(x, t_in) and check_not_in(x, t_not_in)))]\n",
    "        _df = _df.loc[~_df[\"name\"].apply(lambda x: check_in(x, t_in) and check_not_in(x, t_not_in))]\n",
    "    \n",
    "    return out"
   ]
  },
  {
   "cell_type": "code",
   "execution_count": 18,
   "id": "995bb3a6-fdc5-4887-babb-441557eb0742",
   "metadata": {
    "tags": []
   },
   "outputs": [
    {
     "data": {
      "application/vnd.jupyter.widget-view+json": {
       "model_id": "7f34c9d663d94494a0fe7642dd7e5648",
       "version_major": 2,
       "version_minor": 0
      },
      "text/plain": [
       "  0%|          | 0/20 [00:00<?, ?it/s]"
      ]
     },
     "metadata": {},
     "output_type": "display_data"
    },
    {
     "name": "stdout",
     "output_type": "stream",
     "text": [
      "Канцтовары\n"
     ]
    },
    {
     "name": "stderr",
     "output_type": "stream",
     "text": [
      "/home/danila/Projects/hokokuji/notebooks/../hoko/impurity.py:6: RuntimeWarning: invalid value encountered in divide\n",
      "  return 1 - ((counts / counts.sum()) ** 2).sum()\n"
     ]
    },
    {
     "name": "stdout",
     "output_type": "stream",
     "text": [
      "Женщинам\n",
      "Дом\n",
      "Мужчинам\n",
      "Книги\n",
      "Аксессуары\n",
      "Зоотовары\n",
      "Обувь\n",
      "Мебель\n",
      "Бытовая техника\n",
      "Красота\n",
      "Здоровье\n",
      "Для ремонта\n",
      "Автотовары\n",
      "Продукты\n",
      "Игрушки\n",
      "Электроника\n",
      "Детям\n",
      "Ювелирные изделия\n",
      "Сад и дача\n"
     ]
    },
    {
     "data": {
      "text/plain": [
       "{'Канцтовары': (['учебников',\n",
       "   'меловой',\n",
       "   'счетных',\n",
       "   'канцелярский',\n",
       "   'физический',\n",
       "   'материалов',\n",
       "   'акварел',\n",
       "   'датированный',\n",
       "   'фломастеров',\n",
       "   'а7'],\n",
       "  []),\n",
       " 'Женщинам': (['разрезом',\n",
       "   'рубчик',\n",
       "   'посадкой',\n",
       "   'талией',\n",
       "   'топик',\n",
       "   'стринг',\n",
       "   'вырезом',\n",
       "   'блузк',\n",
       "   'юбк',\n",
       "   'вечерн'],\n",
       "  ['школьн',\n",
       "   'школьн',\n",
       "   'коль',\n",
       "   'ев',\n",
       "   '925',\n",
       "   'серьг',\n",
       "   'форм',\n",
       "   'серебр',\n",
       "   'девочк',\n",
       "   'девочк']),\n",
       " 'Дом': (['палочкам',\n",
       "   'стирк',\n",
       "   'кальян',\n",
       "   'блэкаут',\n",
       "   'чарон',\n",
       "   'стирок',\n",
       "   'стиральный',\n",
       "   'бязь',\n",
       "   'зажигалк',\n",
       "   '70х70'],\n",
       "  ['мягк',\n",
       "   'стен',\n",
       "   'пвх',\n",
       "   'стенов',\n",
       "   'ассорт',\n",
       "   'спрей',\n",
       "   'конфет',\n",
       "   'панел',\n",
       "   'рт',\n",
       "   'рт']),\n",
       " 'Мужчинам': (['приталенн',\n",
       "   'бойфренд',\n",
       "   'карг',\n",
       "   'zxc',\n",
       "   'инсайд',\n",
       "   'джоггер',\n",
       "   'пуловер',\n",
       "   'зауженн',\n",
       "   'полукомбинезон',\n",
       "   'туфл'],\n",
       "  ['женск',\n",
       "   'женск',\n",
       "   'женск',\n",
       "   'женск',\n",
       "   'лук',\n",
       "   'туфл',\n",
       "   'кож',\n",
       "   'кож',\n",
       "   'комбинезон',\n",
       "   'бин']),\n",
       " 'Книги': (['вариантов',\n",
       "   'уэйт',\n",
       "   'метафорическ',\n",
       "   'квартальный',\n",
       "   'руководств',\n",
       "   'ассоциативн',\n",
       "   'томах',\n",
       "   'годовой',\n",
       "   'библ',\n",
       "   'издан'],\n",
       "  ['гр',\n",
       "   'стол',\n",
       "   'игр',\n",
       "   'игр',\n",
       "   'приготовлен',\n",
       "   'подушк',\n",
       "   'total',\n",
       "   'шампуров',\n",
       "   'пистолетмаркиратор',\n",
       "   'этикет']),\n",
       " 'Аксессуары': (['нашивк',\n",
       "   'шеврон',\n",
       "   'твилл',\n",
       "   'платков',\n",
       "   'антиветер',\n",
       "   'вагнер',\n",
       "   'носовых',\n",
       "   'кладь',\n",
       "   'канекалон',\n",
       "   'зеркальц'],\n",
       "  []),\n",
       " 'Зоотовары': (['нагреватель',\n",
       "   'инкубатор',\n",
       "   'когтерез',\n",
       "   'фурминатор',\n",
       "   'кроликов',\n",
       "   'аквариумный',\n",
       "   'груминг',\n",
       "   'вольер',\n",
       "   'пуходерк',\n",
       "   'средних'],\n",
       "  []),\n",
       " 'Обувь': (['натуральном',\n",
       "   'ботфорт',\n",
       "   'crocband',\n",
       "   'джибитс',\n",
       "   'завязок',\n",
       "   'рожок',\n",
       "   'подошв',\n",
       "   'qing',\n",
       "   'кроссовок',\n",
       "   'bayaband'],\n",
       "  []),\n",
       " 'Мебель': (['письменный',\n",
       "   'квадратный',\n",
       "   'раскладной',\n",
       "   'обеденног',\n",
       "   'журнальный',\n",
       "   'банкетк',\n",
       "   'столовой',\n",
       "   'беспружинный',\n",
       "   'eames',\n",
       "   'пуф'],\n",
       "  ['гр',\n",
       "   'мягк',\n",
       "   'муравьев',\n",
       "   'вырезом',\n",
       "   'семен',\n",
       "   'стикер',\n",
       "   'слип',\n",
       "   'наручн',\n",
       "   'приготовлен',\n",
       "   'ботинк']),\n",
       " 'Бытовая техника': (['увлажнитель',\n",
       "   'мойщик',\n",
       "   'конвектор',\n",
       "   'стеклоочиститель',\n",
       "   'эпилятор',\n",
       "   'puh',\n",
       "   'антивибрационн',\n",
       "   'тепловентилятор',\n",
       "   '4100k',\n",
       "   'pvcr'],\n",
       "  []),\n",
       " 'Красота': (['spf',\n",
       "   'крылышкам',\n",
       "   'термозащит',\n",
       "   'причесок',\n",
       "   'dercos',\n",
       "   'солнцезащитный',\n",
       "   'парикмахерский',\n",
       "   'results',\n",
       "   'парикмахерск',\n",
       "   'тональный'],\n",
       "  []),\n",
       " 'Здоровье': (['кузнецов',\n",
       "   'послеродовой',\n",
       "   'безалкогольный',\n",
       "   'кордицепс',\n",
       "   'аппликатор',\n",
       "   'стерилизац',\n",
       "   'изопропиловый',\n",
       "   'мицелий',\n",
       "   'микродозинг',\n",
       "   'кровоостанавливающий'],\n",
       "  []),\n",
       " 'Для ремонта': (['gdf',\n",
       "   'грунтовк',\n",
       "   'приточный',\n",
       "   'гидроизоляц',\n",
       "   'фотооб',\n",
       "   'джутовый',\n",
       "   'сантехнический',\n",
       "   'флизелинов',\n",
       "   'кирпич',\n",
       "   'стенов'],\n",
       "  []),\n",
       " 'Автотовары': (['стартер',\n",
       "   'honda',\n",
       "   'багажник',\n",
       "   'стеклоочистител',\n",
       "   'renault',\n",
       "   'mitsubishi',\n",
       "   'зажиган',\n",
       "   'sae',\n",
       "   'присадк',\n",
       "   'kia'],\n",
       "  []),\n",
       " 'Продукты': (['снек',\n",
       "   'коктейлей',\n",
       "   'тушенк',\n",
       "   'сухофрукт',\n",
       "   'пастил',\n",
       "   'арабик',\n",
       "   'финик',\n",
       "   'вялен',\n",
       "   'зернах',\n",
       "   'жареный'],\n",
       "  []),\n",
       " 'Игрушки': (['формочк',\n",
       "   'румбокс',\n",
       "   'бластер',\n",
       "   'игрушечный',\n",
       "   'водой',\n",
       "   'мыльных',\n",
       "   'пузырей',\n",
       "   'гуджитс',\n",
       "   'песочниц',\n",
       "   'мыльн'],\n",
       "  []),\n",
       " 'Электроника': (['ssd',\n",
       "   'звонок',\n",
       "   '8gb',\n",
       "   'ps4',\n",
       "   'электросамокат',\n",
       "   '64gb',\n",
       "   'домофон',\n",
       "   'штрихкод',\n",
       "   'tapo',\n",
       "   'bank'],\n",
       "  []),\n",
       " 'Детям': (['выписк',\n",
       "   'беговел',\n",
       "   '611',\n",
       "   'снегокат',\n",
       "   'yoursun',\n",
       "   'трехколесный',\n",
       "   'airsilky',\n",
       "   'мембранной',\n",
       "   'monkey',\n",
       "   'куртк'],\n",
       "  ['куртк',\n",
       "   'куртк',\n",
       "   'кур',\n",
       "   'рт',\n",
       "   'рт',\n",
       "   'детск',\n",
       "   'детск',\n",
       "   'сн',\n",
       "   'комбинезон',\n",
       "   'комбинезон']),\n",
       " 'Ювелирные изделия': (['ювелирных',\n",
       "   'кулон',\n",
       "   'бриллиантам',\n",
       "   'пупок',\n",
       "   'бриллиантом',\n",
       "   'пусет',\n",
       "   'фианит',\n",
       "   'полновесн',\n",
       "   'бисмарк',\n",
       "   'серебряный'],\n",
       "  []),\n",
       " 'Сад и дача': (['фитосветильник',\n",
       "   'клопов',\n",
       "   'шампуров',\n",
       "   'спальник',\n",
       "   'парник',\n",
       "   'шашлычный',\n",
       "   'спанбонд',\n",
       "   'сорняков',\n",
       "   'биотуалетов',\n",
       "   'теплиц'],\n",
       "  [])}"
      ]
     },
     "execution_count": 18,
     "metadata": {},
     "output_type": "execute_result"
    }
   ],
   "source": [
    "out = learn_all(\n",
    "    _df=products_df,\n",
    "    _tfidf=tfidf_df,\n",
    ")\n",
    "\n",
    "out"
   ]
  },
  {
   "cell_type": "code",
   "execution_count": 19,
   "id": "6fe3a370-fe82-44ed-b8e9-163bf6c56cfa",
   "metadata": {
    "tags": []
   },
   "outputs": [],
   "source": [
    "class Stump:\n",
    "    def __init__(self, rule, label):\n",
    "        self.good = rule[0]\n",
    "        self.bad = rule[1]\n",
    "        self.label = label\n",
    "    \n",
    "    def predict(self, Nrows):\n",
    "        if isinstance(Nrows, str):\n",
    "            Nrows = [Nrows,]\n",
    "        Nrows = [row.lower() for row in Nrows]\n",
    "        return [\n",
    "            self.label if (\n",
    "                any([g in row for g in self.good])\n",
    "                and not any([b in row for b in self.bad])\n",
    "            ) else \"\"\n",
    "            for row in Nrows\n",
    "        ]"
   ]
  },
  {
   "cell_type": "code",
   "execution_count": 20,
   "id": "d45dfe8a-3eaf-49f7-8359-dde4a9b6bc90",
   "metadata": {
    "tags": []
   },
   "outputs": [],
   "source": [
    "class Model:\n",
    "    def __init__(self, rules):\n",
    "        self.rules = rules\n",
    "        self.outputs = np.array(list(rules.keys()))\n",
    "        self.stumps = [Stump(rule, label) for label, rule in rules.items()]\n",
    "    \n",
    "    def predict(self, Nrows):\n",
    "        if isinstance(Nrows, str):\n",
    "            Nrows = [Nrows,]\n",
    "        Nrows = [row.lower() for row in Nrows]\n",
    "        \n",
    "        preds = np.array([\n",
    "            max([s.predict(row)[0] for s in self.stumps])\n",
    "            for row in Nrows\n",
    "        ])\n",
    "        # preds = np.array([ s.predict(Nrows) for s in self.stumps ])\n",
    "        return preds\n",
    "        \n",
    "        return self.outputs[preds.argmax(axis=0).T]"
   ]
  },
  {
   "cell_type": "code",
   "execution_count": 21,
   "id": "d52d32ac-a600-4e19-a2b1-213d22978fc2",
   "metadata": {
    "tags": []
   },
   "outputs": [],
   "source": [
    "M = Model(out)"
   ]
  },
  {
   "cell_type": "code",
   "execution_count": 22,
   "id": "b9443793-dc38-4965-bde0-43e75f77eb00",
   "metadata": {
    "tags": []
   },
   "outputs": [],
   "source": [
    "F = M.predict(products_df[\"name\"].to_list())\n",
    "# preds = M.predict(lines)"
   ]
  },
  {
   "cell_type": "code",
   "execution_count": 23,
   "id": "e384e483-3f97-4275-831b-e4e627c50517",
   "metadata": {
    "tags": []
   },
   "outputs": [
    {
     "data": {
      "text/plain": [
       "0.13159656704607706"
      ]
     },
     "execution_count": 23,
     "metadata": {},
     "output_type": "execute_result"
    }
   ],
   "source": [
    "(F == products_df[\"category\"]).sum() / products_df.shape[0]"
   ]
  },
  {
   "cell_type": "code",
   "execution_count": 24,
   "id": "6424c67e-42e3-454a-a4b9-b9c12db4b849",
   "metadata": {
    "tags": []
   },
   "outputs": [],
   "source": [
    "def compile_to_sql(rules, column_name=\"some_txt\"):\n",
    "    out = \"(case\\n\"\n",
    "    \n",
    "    for k, (tin, tout) in rules.items():\n",
    "        out += f\"\"\"  when 1=1\\n    and lower({column_name}) like '%({\"|\".join(tin)})%'\\n\"\"\"\n",
    "        \n",
    "        if tout != []:\n",
    "            out += f\"\"\"    and lower({column_name}) not like '%({\"|\".join(tout)})%'\\n\"\"\"\n",
    "    \n",
    "        out += f\"    then '{k}'\\n\\n\"\n",
    "        \n",
    "    out += \"  else Null\\n\"\n",
    "    out += \"end)\"\n",
    "    \n",
    "    return out"
   ]
  },
  {
   "cell_type": "code",
   "execution_count": 25,
   "id": "902a03a4-f6bf-4e55-83e1-25d273643b7d",
   "metadata": {
    "tags": []
   },
   "outputs": [
    {
     "name": "stdout",
     "output_type": "stream",
     "text": [
      "(case\n",
      "  when 1=1\n",
      "    and lower(name) like '%(учебников|меловой|счетных|канцелярский|физический|материалов|акварел|датированный|фломастеров|а7)%'\n",
      "    then 'Канцтовары'\n",
      "\n",
      "  when 1=1\n",
      "    and lower(name) like '%(разрезом|рубчик|посадкой|талией|топик|стринг|вырезом|блузк|юбк|вечерн)%'\n",
      "    and lower(name) not like '%(школьн|школьн|коль|ев|925|серьг|форм|серебр|девочк|девочк)%'\n",
      "    then 'Женщинам'\n",
      "\n",
      "  when 1=1\n",
      "    and lower(name) like '%(палочкам|стирк|кальян|блэкаут|чарон|стирок|стиральный|бязь|зажигалк|70х70)%'\n",
      "    and lower(name) not like '%(мягк|стен|пвх|стенов|ассорт|спрей|конфет|панел|рт|рт)%'\n",
      "    then 'Дом'\n",
      "\n",
      "  when 1=1\n",
      "    and lower(name) like '%(приталенн|бойфренд|карг|zxc|инсайд|джоггер|пуловер|зауженн|полукомбинезон|туфл)%'\n",
      "    and lower(name) not like '%(женск|женск|женск|женск|лук|туфл|кож|кож|комбинезон|бин)%'\n",
      "    then 'Мужчинам'\n",
      "\n",
      "  when 1=1\n",
      "    and lower(name) like '%(вариантов|уэйт|метафорическ|квартальный|руководств|ассоциативн|томах|годовой|библ|издан)%'\n",
      "    and lower(name) not like '%(гр|стол|игр|игр|приготовлен|подушк|total|шампуров|пистолетмаркиратор|этикет)%'\n",
      "    then 'Книги'\n",
      "\n",
      "  when 1=1\n",
      "    and lower(name) like '%(нашивк|шеврон|твилл|платков|антиветер|вагнер|носовых|кладь|канекалон|зеркальц)%'\n",
      "    then 'Аксессуары'\n",
      "\n",
      "  when 1=1\n",
      "    and lower(name) like '%(нагреватель|инкубатор|когтерез|фурминатор|кроликов|аквариумный|груминг|вольер|пуходерк|средних)%'\n",
      "    then 'Зоотовары'\n",
      "\n",
      "  when 1=1\n",
      "    and lower(name) like '%(натуральном|ботфорт|crocband|джибитс|завязок|рожок|подошв|qing|кроссовок|bayaband)%'\n",
      "    then 'Обувь'\n",
      "\n",
      "  when 1=1\n",
      "    and lower(name) like '%(письменный|квадратный|раскладной|обеденног|журнальный|банкетк|столовой|беспружинный|eames|пуф)%'\n",
      "    and lower(name) not like '%(гр|мягк|муравьев|вырезом|семен|стикер|слип|наручн|приготовлен|ботинк)%'\n",
      "    then 'Мебель'\n",
      "\n",
      "  when 1=1\n",
      "    and lower(name) like '%(увлажнитель|мойщик|конвектор|стеклоочиститель|эпилятор|puh|антивибрационн|тепловентилятор|4100k|pvcr)%'\n",
      "    then 'Бытовая техника'\n",
      "\n",
      "  when 1=1\n",
      "    and lower(name) like '%(spf|крылышкам|термозащит|причесок|dercos|солнцезащитный|парикмахерский|results|парикмахерск|тональный)%'\n",
      "    then 'Красота'\n",
      "\n",
      "  when 1=1\n",
      "    and lower(name) like '%(кузнецов|послеродовой|безалкогольный|кордицепс|аппликатор|стерилизац|изопропиловый|мицелий|микродозинг|кровоостанавливающий)%'\n",
      "    then 'Здоровье'\n",
      "\n",
      "  when 1=1\n",
      "    and lower(name) like '%(gdf|грунтовк|приточный|гидроизоляц|фотооб|джутовый|сантехнический|флизелинов|кирпич|стенов)%'\n",
      "    then 'Для ремонта'\n",
      "\n",
      "  when 1=1\n",
      "    and lower(name) like '%(стартер|honda|багажник|стеклоочистител|renault|mitsubishi|зажиган|sae|присадк|kia)%'\n",
      "    then 'Автотовары'\n",
      "\n",
      "  when 1=1\n",
      "    and lower(name) like '%(снек|коктейлей|тушенк|сухофрукт|пастил|арабик|финик|вялен|зернах|жареный)%'\n",
      "    then 'Продукты'\n",
      "\n",
      "  when 1=1\n",
      "    and lower(name) like '%(формочк|румбокс|бластер|игрушечный|водой|мыльных|пузырей|гуджитс|песочниц|мыльн)%'\n",
      "    then 'Игрушки'\n",
      "\n",
      "  when 1=1\n",
      "    and lower(name) like '%(ssd|звонок|8gb|ps4|электросамокат|64gb|домофон|штрихкод|tapo|bank)%'\n",
      "    then 'Электроника'\n",
      "\n",
      "  when 1=1\n",
      "    and lower(name) like '%(выписк|беговел|611|снегокат|yoursun|трехколесный|airsilky|мембранной|monkey|куртк)%'\n",
      "    and lower(name) not like '%(куртк|куртк|кур|рт|рт|детск|детск|сн|комбинезон|комбинезон)%'\n",
      "    then 'Детям'\n",
      "\n",
      "  when 1=1\n",
      "    and lower(name) like '%(ювелирных|кулон|бриллиантам|пупок|бриллиантом|пусет|фианит|полновесн|бисмарк|серебряный)%'\n",
      "    then 'Ювелирные изделия'\n",
      "\n",
      "  when 1=1\n",
      "    and lower(name) like '%(фитосветильник|клопов|шампуров|спальник|парник|шашлычный|спанбонд|сорняков|биотуалетов|теплиц)%'\n",
      "    then 'Сад и дача'\n",
      "\n",
      "  else Null\n",
      "end)\n"
     ]
    }
   ],
   "source": [
    "print(compile_to_sql(out, column_name=\"name\"))"
   ]
  },
  {
   "cell_type": "code",
   "execution_count": 26,
   "id": "ef7abb40-e74c-4ed1-a089-ab2b3b958c05",
   "metadata": {
    "tags": []
   },
   "outputs": [
    {
     "data": {
      "text/plain": [
       "Engine(postgresql://danila@localhost/wildberries)"
      ]
     },
     "execution_count": 26,
     "metadata": {},
     "output_type": "execute_result"
    }
   ],
   "source": [
    "from sqlalchemy import create_engine\n",
    "\n",
    "engine = create_engine('postgresql://danila@localhost/wildberries')\n",
    "engine"
   ]
  },
  {
   "cell_type": "code",
   "execution_count": 27,
   "id": "3fa464a7-f6c1-4213-967b-effeaec4b5da",
   "metadata": {
    "tags": []
   },
   "outputs": [],
   "source": [
    "%load_ext sql"
   ]
  },
  {
   "cell_type": "code",
   "execution_count": 28,
   "id": "e96a01b2-cda7-4531-8249-68e9199569dc",
   "metadata": {
    "tags": []
   },
   "outputs": [],
   "source": [
    "%sql postgresql://danila@localhost:5432/wildberries"
   ]
  },
  {
   "cell_type": "code",
   "execution_count": 29,
   "id": "e98d5086-7e01-40d5-bce0-ba4cc50c5042",
   "metadata": {
    "tags": []
   },
   "outputs": [
    {
     "name": "stdout",
     "output_type": "stream",
     "text": [
      " * postgresql://danila@localhost:5432/wildberries\n",
      "Done.\n"
     ]
    },
    {
     "data": {
      "text/plain": [
       "[]"
      ]
     },
     "execution_count": 29,
     "metadata": {},
     "output_type": "execute_result"
    }
   ],
   "source": [
    "%%sql\n",
    "\n",
    "drop table if exists predicted_category;"
   ]
  },
  {
   "cell_type": "code",
   "execution_count": 30,
   "id": "2a9d1a81-1f39-45ed-8e52-5bd640b71574",
   "metadata": {
    "tags": []
   },
   "outputs": [
    {
     "name": "stdout",
     "output_type": "stream",
     "text": [
      "CPU times: user 5.25 s, sys: 29.9 ms, total: 5.28 s\n",
      "Wall time: 5.86 s\n"
     ]
    },
    {
     "data": {
      "text/plain": [
       "152"
      ]
     },
     "execution_count": 30,
     "metadata": {},
     "output_type": "execute_result"
    }
   ],
   "source": [
    "%%time\n",
    "test_df = pd.read_sql(\n",
    "    sql=\"select category, name from raw.products\",\n",
    "    con=engine,\n",
    ")\n",
    "\n",
    "\n",
    "test_df[\"pred_category\"] = M.predict(test_df[\"name\"].to_list())\n",
    "\n",
    "test_df.to_sql(name=\"predicted_category\", con=engine)"
   ]
  },
  {
   "cell_type": "code",
   "execution_count": 31,
   "id": "724b0ce1-735e-493c-b870-98e29df477e6",
   "metadata": {
    "tags": []
   },
   "outputs": [
    {
     "name": "stdout",
     "output_type": "stream",
     "text": [
      " * postgresql://danila@localhost:5432/wildberries\n",
      "Done.\n"
     ]
    },
    {
     "data": {
      "text/plain": [
       "[]"
      ]
     },
     "execution_count": 31,
     "metadata": {},
     "output_type": "execute_result"
    }
   ],
   "source": [
    "%%sql\n",
    "\n",
    "drop table if exists predicted_category;"
   ]
  },
  {
   "cell_type": "code",
   "execution_count": 32,
   "id": "0c073e2a-d452-4414-8fcd-fa462a392e57",
   "metadata": {
    "tags": []
   },
   "outputs": [
    {
     "name": "stdout",
     "output_type": "stream",
     "text": [
      "CPU times: user 881 ms, sys: 16.3 ms, total: 897 ms\n",
      "Wall time: 1.35 s\n"
     ]
    },
    {
     "data": {
      "text/plain": [
       "152"
      ]
     },
     "execution_count": 32,
     "metadata": {},
     "output_type": "execute_result"
    }
   ],
   "source": [
    "%%time\n",
    "test_df = pd.read_sql(\n",
    "    sql=\"select category, name from raw.products\",\n",
    "    con=engine,\n",
    ")\n",
    "\n",
    "\n",
    "# test_df[\"pred_category\"] = M.predict(test_df[\"name\"].to_list())\n",
    "\n",
    "test_df.to_sql(name=\"predicted_category\", con=engine)"
   ]
  },
  {
   "cell_type": "code",
   "execution_count": 33,
   "id": "7554254c-82e7-48fe-8b8b-053b6fa266b4",
   "metadata": {
    "tags": []
   },
   "outputs": [
    {
     "name": "stdout",
     "output_type": "stream",
     "text": [
      " * postgresql://danila@localhost:5432/wildberries\n",
      "Done.\n"
     ]
    },
    {
     "data": {
      "text/plain": [
       "[]"
      ]
     },
     "execution_count": 33,
     "metadata": {},
     "output_type": "execute_result"
    }
   ],
   "source": [
    "%%sql\n",
    "\n",
    "drop table if exists predicted_category;"
   ]
  },
  {
   "cell_type": "code",
   "execution_count": 34,
   "id": "9cb3aee4-392f-4421-a916-6b885fe0f8a9",
   "metadata": {
    "tags": []
   },
   "outputs": [
    {
     "name": "stdout",
     "output_type": "stream",
     "text": [
      " * postgresql://danila@localhost:5432/wildberries\n",
      "67152 rows affected.\n",
      "CPU times: user 70.6 ms, sys: 0 ns, total: 70.6 ms\n",
      "Wall time: 1.36 s\n"
     ]
    },
    {
     "data": {
      "text/plain": [
       "[]"
      ]
     },
     "execution_count": 34,
     "metadata": {},
     "output_type": "execute_result"
    }
   ],
   "source": [
    "%%time\n",
    "%%sql\n",
    "\n",
    "create table predicted_category as\n",
    "\n",
    "select\n",
    "     category as true_category\n",
    "    ,(case\n",
    "      when 1=1\n",
    "        and lower(name) like '%(учебников|счетных|канцелярский|физикополитический|физический|материалов|акварел|датированный|фломастеров|а7)%'\n",
    "        then 'Канцтовары'\n",
    "    \n",
    "      when 1=1\n",
    "        and lower(name) like '%(разрезом|рубчик|посадкой|талией|топик|стринг|вырезом|блузк|юбк|вечерн)%'\n",
    "        and lower(name) not like '%(школьн|школьн|коль|ев|925|серьг|форм|серебр|девочк|девочк)%'\n",
    "        then 'Женщинам'\n",
    "    \n",
    "      when 1=1\n",
    "        and lower(name) like '%(палочкам|наклонноповоротный|стирк|кальян|стиральный|стирок|чарон|бязь|блэкаут|зажигалк)%'\n",
    "        and lower(name) not like '%(ассорт|рт|конфет|спрей|рт|ботинк|подушк|total|шампуров|пистолетмаркиратор)%'\n",
    "        then 'Дом'\n",
    "    \n",
    "      when 1=1\n",
    "        and lower(name) like '%(приталенн|карг|zxc|футболкапол|инсайд|бойфренд|джоггер|пуловер|зауженн|полукомбинезон)%'\n",
    "        and lower(name) not like '%(женск|женск|женск|женск|лук|комбинезон|комбинезон|бин|кожан|кож)%'\n",
    "        then 'Мужчинам'\n",
    "    \n",
    "      when 1=1\n",
    "        and lower(name) like '%(руководств|годовой|квартальный|библ|томах|cdmp3|ассоциативн|cdмр3|метафорическ|уэйт)%'\n",
    "        then 'Книги'\n",
    "    \n",
    "      when 1=1\n",
    "        and lower(name) like '%(нашивк|шеврон|твилл|вагнер|канекалон|платков|антиветер|носовых|портуп|кладь)%'\n",
    "        then 'Аксессуары'\n",
    "    \n",
    "      when 1=1\n",
    "        and lower(name) like '%(нагреватель|инкубатор|когтерез|фурминатор|кроликов|аквариумный|груминг|вольер|пуходерк|средних)%'\n",
    "        then 'Зоотовары'\n",
    "    \n",
    "      when 1=1\n",
    "        and lower(name) like '%(джибитс|ботфорт|crocband|baya|завязок|qing|подошв|рожок|полусапожк|кроссовок)%'\n",
    "        then 'Обувь'\n",
    "    \n",
    "      when 1=1\n",
    "        and lower(name) like '%(квадратный|раскладной|обеденног|журнальный|7301757250|банкетк|беспружинный|письменный|eames|кресломешок)%'\n",
    "        then 'Мебель'\n",
    "    \n",
    "      when 1=1\n",
    "        and lower(name) like '%(увлажнитель|мойщик|конвектор|стеклоочиститель|эпилятор|puh|антивибрационн|4100k|планетарный|pvcr)%'\n",
    "        then 'Бытовая техника'\n",
    "    \n",
    "      when 1=1\n",
    "        and lower(name) like '%(spf|крылышкам|термозащит|причесок|dercos|солнцезащитный|парикмахерский|results|парикмахерск|тональный)%'\n",
    "        then 'Красота'\n",
    "    \n",
    "      when 1=1\n",
    "        and lower(name) like '%(кузнецов|послеродовой|безалкогольный|кордицепс|аппликатор|стерилизац|изопропиловый|мицелий|микродозинг|кровоостанавливающий)%'\n",
    "        then 'Здоровье'\n",
    "    \n",
    "      when 1=1\n",
    "        and lower(name) like '%(флизелинов|сантехнический|рештк|стенов|шпагат|gdf|грунтовк|фотооб|приточный|теплоизоляц)%'\n",
    "        then 'Для ремонта'\n",
    "    \n",
    "      when 1=1\n",
    "        and lower(name) like '%(стартер|honda|багажник|стеклоочистител|renault|mitsubishi|зажиган|sae|присадк|kia)%'\n",
    "        then 'Автотовары'\n",
    "    \n",
    "      when 1=1\n",
    "        and lower(name) like '%(снек|коктейлей|тушенк|сухофрукт|пастил|арабик|финик|вялен|зернах|жареный)%'\n",
    "        then 'Продукты'\n",
    "    \n",
    "      when 1=1\n",
    "        and lower(name) like '%(формочк|румбокс|бластер|игрушечный|водой|мыльных|пузырей|гуджитс|песочниц|мыльн)%'\n",
    "        then 'Игрушки'\n",
    "    \n",
    "      when 1=1\n",
    "        and lower(name) like '%(ipкамер|звонок|ps4|8gb|bank|штрихкод|128gb|64gb|электромобиль|core)%'\n",
    "        then 'Электроника'\n",
    "    \n",
    "      when 1=1\n",
    "        and lower(name) like '%(914|914кг|monkey|airsilky|выписк|мембранной|yoursun|1217кг|611|подгузникитрусик)%'\n",
    "        and lower(name) not like '%(вытяжк|кухонн|секатор|стикер|наручн|приготовлен|подушк|total|шампуров|семен)%'\n",
    "        then 'Детям'\n",
    "    \n",
    "      when 1=1\n",
    "        and lower(name) like '%(ювелирных|кулон|бриллиантам|пупок|бриллиантом|пусет|фианит|полновесн|бисмарк|серебряный)%'\n",
    "        then 'Ювелирные изделия'\n",
    "    \n",
    "      when 1=1\n",
    "        and lower(name) like '%(фитосветильник|клопов|шампуров|спальник|парник|шашлычный|спанбонд|сорняков|биотуалетов|теплиц)%'\n",
    "        then 'Сад и дача'\n",
    "    \n",
    "      else Null\n",
    "    end) as pred_category\n",
    "    ,name\n",
    "from\n",
    "    raw.products\n",
    ";"
   ]
  },
  {
   "cell_type": "code",
   "execution_count": 35,
   "id": "51e3b75c-1d0f-4b1e-9695-dda695d0191b",
   "metadata": {
    "tags": []
   },
   "outputs": [
    {
     "name": "stdout",
     "output_type": "stream",
     "text": [
      " * postgresql://danila@localhost:5432/wildberries\n",
      "1 rows affected.\n"
     ]
    },
    {
     "data": {
      "text/html": [
       "<table>\n",
       "    <tr>\n",
       "        <th>count</th>\n",
       "    </tr>\n",
       "    <tr>\n",
       "        <td>67152</td>\n",
       "    </tr>\n",
       "</table>"
      ],
      "text/plain": [
       "[(67152,)]"
      ]
     },
     "execution_count": 35,
     "metadata": {},
     "output_type": "execute_result"
    }
   ],
   "source": [
    "%%sql\n",
    "\n",
    "select\n",
    "    count(1)\n",
    "from\n",
    "    raw.products"
   ]
  },
  {
   "cell_type": "code",
   "execution_count": 36,
   "id": "a9ea6185-ad35-4ea0-98e0-b17427fad741",
   "metadata": {
    "tags": []
   },
   "outputs": [],
   "source": [
    "import matplotlib.pyplot as plt"
   ]
  },
  {
   "cell_type": "code",
   "execution_count": 37,
   "id": "b59afb26-3c37-41a0-b65a-61fb80751f8d",
   "metadata": {
    "tags": []
   },
   "outputs": [
    {
     "data": {
      "image/png": "[encoded data removed]",
      "text/plain": [
       "<Figure size 640x480 with 1 Axes>"
      ]
     },
     "metadata": {},
     "output_type": "display_data"
    }
   ],
   "source": [
    "plt.bar(\n",
    "    x=[\"flow\", \"raw-sql\",],\n",
    "    height=[3.41 * 1000, 14.2],\n",
    ");\n",
    "plt.yscale(\"log\");\n",
    "plt.show()"
   ]
  }
 ],
 "metadata": {
  "@deathbeds/ipydrawio": {
   "xml": ""
  },
  "kernelspec": {
   "display_name": "Python 3 (ipykernel)",
   "language": "python",
   "name": "python3"
  },
  "language_info": {
   "codemirror_mode": {
    "name": "ipython",
    "version": 3
   },
   "file_extension": ".py",
   "mimetype": "text/x-python",
   "name": "python",
   "nbconvert_exporter": "python",
   "pygments_lexer": "ipython3",
   "version": "3.10.9"
  }
 },
 "nbformat": 4,
 "nbformat_minor": 5
}
