{
 "cells": [
  {
   "cell_type": "markdown",
   "id": "04b07f71-18fd-4e12-b918-604bb4241b46",
   "metadata": {},
   "source": [
    "# Example usage"
   ]
  },
  {
   "cell_type": "code",
   "execution_count": 1,
   "id": "124fe995-79b6-4a07-965d-49c4e0808421",
   "metadata": {
    "tags": []
   },
   "outputs": [],
   "source": [
    "import sys\n",
    "sys.path.append('..')"
   ]
  },
  {
   "cell_type": "markdown",
   "id": "7d27693a-9270-4561-87eb-1331d588912b",
   "metadata": {},
   "source": [
    "## Load data"
   ]
  },
  {
   "cell_type": "code",
   "execution_count": 2,
   "id": "08b2829c-7766-4827-845c-7b70717a0a61",
   "metadata": {
    "tags": []
   },
   "outputs": [],
   "source": [
    "import pandas as pd\n",
    "import numpy as np\n",
    "import matplotlib.pyplot as plt\n",
    "import re\n",
    "\n",
    "%matplotlib inline"
   ]
  },
  {
   "cell_type": "code",
   "execution_count": 3,
   "id": "c9d0627b-124e-4199-9f09-65464829b395",
   "metadata": {
    "tags": []
   },
   "outputs": [
    {
     "data": {
      "text/html": [
       "<div>\n",
       "<style scoped>\n",
       "    .dataframe tbody tr th:only-of-type {\n",
       "        vertical-align: middle;\n",
       "    }\n",
       "\n",
       "    .dataframe tbody tr th {\n",
       "        vertical-align: top;\n",
       "    }\n",
       "\n",
       "    .dataframe thead th {\n",
       "        text-align: right;\n",
       "    }\n",
       "</style>\n",
       "<table border=\"1\" class=\"dataframe\">\n",
       "  <thead>\n",
       "    <tr style=\"text-align: right;\">\n",
       "      <th></th>\n",
       "      <th>category</th>\n",
       "      <th>subcategory</th>\n",
       "      <th>name</th>\n",
       "    </tr>\n",
       "  </thead>\n",
       "  <tbody>\n",
       "    <tr>\n",
       "      <th>0</th>\n",
       "      <td>Канцтовары</td>\n",
       "      <td>Бумажная продукция</td>\n",
       "      <td>Скетчбук А5, блокнот для скетчинга</td>\n",
       "    </tr>\n",
       "    <tr>\n",
       "      <th>1</th>\n",
       "      <td>Канцтовары</td>\n",
       "      <td>Бумажная продукция</td>\n",
       "      <td>Блокнот</td>\n",
       "    </tr>\n",
       "    <tr>\n",
       "      <th>2</th>\n",
       "      <td>Канцтовары</td>\n",
       "      <td>Бумажная продукция</td>\n",
       "      <td>для принтера, 2500</td>\n",
       "    </tr>\n",
       "    <tr>\n",
       "      <th>3</th>\n",
       "      <td>Канцтовары</td>\n",
       "      <td>Бумажная продукция</td>\n",
       "      <td>Бумага а4 для принтера оргтехники</td>\n",
       "    </tr>\n",
       "    <tr>\n",
       "      <th>4</th>\n",
       "      <td>Канцтовары</td>\n",
       "      <td>Бумажная продукция</td>\n",
       "      <td>Бумага а4 для принтера оргтехники</td>\n",
       "    </tr>\n",
       "  </tbody>\n",
       "</table>\n",
       "</div>"
      ],
      "text/plain": [
       "     category         subcategory                                name\n",
       "0  Канцтовары  Бумажная продукция  Скетчбук А5, блокнот для скетчинга\n",
       "1  Канцтовары  Бумажная продукция                             Блокнот\n",
       "2  Канцтовары  Бумажная продукция                  для принтера, 2500\n",
       "3  Канцтовары  Бумажная продукция   Бумага а4 для принтера оргтехники\n",
       "4  Канцтовары  Бумажная продукция   Бумага а4 для принтера оргтехники"
      ]
     },
     "execution_count": 3,
     "metadata": {},
     "output_type": "execute_result"
    }
   ],
   "source": [
    "data_df = pd.read_csv('../data/products.csv', sep=';')\n",
    "data_df.head()"
   ]
  },
  {
   "cell_type": "code",
   "execution_count": 4,
   "id": "2b110850-021c-40e8-a515-16546dc31f4a",
   "metadata": {
    "tags": []
   },
   "outputs": [
    {
     "data": {
      "text/html": [
       "<div>\n",
       "<style scoped>\n",
       "    .dataframe tbody tr th:only-of-type {\n",
       "        vertical-align: middle;\n",
       "    }\n",
       "\n",
       "    .dataframe tbody tr th {\n",
       "        vertical-align: top;\n",
       "    }\n",
       "\n",
       "    .dataframe thead th {\n",
       "        text-align: right;\n",
       "    }\n",
       "</style>\n",
       "<table border=\"1\" class=\"dataframe\">\n",
       "  <thead>\n",
       "    <tr style=\"text-align: right;\">\n",
       "      <th></th>\n",
       "      <th>category</th>\n",
       "      <th>subcategory</th>\n",
       "      <th>name</th>\n",
       "      <th>tag</th>\n",
       "    </tr>\n",
       "  </thead>\n",
       "  <tbody>\n",
       "    <tr>\n",
       "      <th>0</th>\n",
       "      <td>Канцтовары</td>\n",
       "      <td>Бумажная продукция</td>\n",
       "      <td>Скетчбук А5, блокнот для скетчинга</td>\n",
       "      <td>[скетчбук, а5, блокнот, для, скетчинга]</td>\n",
       "    </tr>\n",
       "    <tr>\n",
       "      <th>1</th>\n",
       "      <td>Канцтовары</td>\n",
       "      <td>Бумажная продукция</td>\n",
       "      <td>Блокнот</td>\n",
       "      <td>[блокнот]</td>\n",
       "    </tr>\n",
       "    <tr>\n",
       "      <th>2</th>\n",
       "      <td>Канцтовары</td>\n",
       "      <td>Бумажная продукция</td>\n",
       "      <td>для принтера, 2500</td>\n",
       "      <td>[для, принтера, 2500]</td>\n",
       "    </tr>\n",
       "    <tr>\n",
       "      <th>3</th>\n",
       "      <td>Канцтовары</td>\n",
       "      <td>Бумажная продукция</td>\n",
       "      <td>Бумага а4 для принтера оргтехники</td>\n",
       "      <td>[бумага, а4, для, принтера, оргтехники]</td>\n",
       "    </tr>\n",
       "    <tr>\n",
       "      <th>4</th>\n",
       "      <td>Канцтовары</td>\n",
       "      <td>Бумажная продукция</td>\n",
       "      <td>Бумага а4 для принтера оргтехники</td>\n",
       "      <td>[бумага, а4, для, принтера, оргтехники]</td>\n",
       "    </tr>\n",
       "  </tbody>\n",
       "</table>\n",
       "</div>"
      ],
      "text/plain": [
       "     category         subcategory                                name  \\\n",
       "0  Канцтовары  Бумажная продукция  Скетчбук А5, блокнот для скетчинга   \n",
       "1  Канцтовары  Бумажная продукция                             Блокнот   \n",
       "2  Канцтовары  Бумажная продукция                  для принтера, 2500   \n",
       "3  Канцтовары  Бумажная продукция   Бумага а4 для принтера оргтехники   \n",
       "4  Канцтовары  Бумажная продукция   Бумага а4 для принтера оргтехники   \n",
       "\n",
       "                                       tag  \n",
       "0  [скетчбук, а5, блокнот, для, скетчинга]  \n",
       "1                                [блокнот]  \n",
       "2                    [для, принтера, 2500]  \n",
       "3  [бумага, а4, для, принтера, оргтехники]  \n",
       "4  [бумага, а4, для, принтера, оргтехники]  "
      ]
     },
     "execution_count": 4,
     "metadata": {},
     "output_type": "execute_result"
    }
   ],
   "source": [
    "data_df['tag'] = data_df['name'].apply(lambda x: re.sub('[^a-zа-я0-9 ]', '', x.lower()).split(' '))\n",
    "data_df.head()"
   ]
  },
  {
   "cell_type": "code",
   "execution_count": 5,
   "id": "4321d8ed-ff1c-4b91-a1d6-e31e3b60a63f",
   "metadata": {
    "tags": []
   },
   "outputs": [
    {
     "data": {
      "text/html": [
       "<div>\n",
       "<style scoped>\n",
       "    .dataframe tbody tr th:only-of-type {\n",
       "        vertical-align: middle;\n",
       "    }\n",
       "\n",
       "    .dataframe tbody tr th {\n",
       "        vertical-align: top;\n",
       "    }\n",
       "\n",
       "    .dataframe thead th {\n",
       "        text-align: right;\n",
       "    }\n",
       "</style>\n",
       "<table border=\"1\" class=\"dataframe\">\n",
       "  <thead>\n",
       "    <tr style=\"text-align: right;\">\n",
       "      <th></th>\n",
       "      <th>category</th>\n",
       "      <th>tag</th>\n",
       "    </tr>\n",
       "  </thead>\n",
       "  <tbody>\n",
       "    <tr>\n",
       "      <th>0</th>\n",
       "      <td>Канцтовары</td>\n",
       "      <td>скетчбук</td>\n",
       "    </tr>\n",
       "    <tr>\n",
       "      <th>2</th>\n",
       "      <td>Канцтовары</td>\n",
       "      <td>блокнот</td>\n",
       "    </tr>\n",
       "    <tr>\n",
       "      <th>3</th>\n",
       "      <td>Канцтовары</td>\n",
       "      <td>для</td>\n",
       "    </tr>\n",
       "    <tr>\n",
       "      <th>4</th>\n",
       "      <td>Канцтовары</td>\n",
       "      <td>скетчинга</td>\n",
       "    </tr>\n",
       "    <tr>\n",
       "      <th>5</th>\n",
       "      <td>Канцтовары</td>\n",
       "      <td>блокнот</td>\n",
       "    </tr>\n",
       "  </tbody>\n",
       "</table>\n",
       "</div>"
      ],
      "text/plain": [
       "     category        tag\n",
       "0  Канцтовары   скетчбук\n",
       "2  Канцтовары    блокнот\n",
       "3  Канцтовары        для\n",
       "4  Канцтовары  скетчинга\n",
       "5  Канцтовары    блокнот"
      ]
     },
     "execution_count": 5,
     "metadata": {},
     "output_type": "execute_result"
    }
   ],
   "source": [
    "category_x_tag_df = data_df.explode('tag', ignore_index=True)[['category', 'tag']]\n",
    "category_x_tag_df = category_x_tag_df.loc[category_x_tag_df['tag'].apply(len) > 2]\n",
    "category_x_tag_df.head()"
   ]
  },
  {
   "cell_type": "code",
   "execution_count": 6,
   "id": "f1451c6e-0551-4b28-bd5f-948a8d26ee6b",
   "metadata": {
    "tags": []
   },
   "outputs": [
    {
     "data": {
      "text/html": [
       "<div>\n",
       "<style scoped>\n",
       "    .dataframe tbody tr th:only-of-type {\n",
       "        vertical-align: middle;\n",
       "    }\n",
       "\n",
       "    .dataframe tbody tr th {\n",
       "        vertical-align: top;\n",
       "    }\n",
       "\n",
       "    .dataframe thead th {\n",
       "        text-align: right;\n",
       "    }\n",
       "</style>\n",
       "<table border=\"1\" class=\"dataframe\">\n",
       "  <thead>\n",
       "    <tr style=\"text-align: right;\">\n",
       "      <th></th>\n",
       "      <th>category</th>\n",
       "      <th>tag</th>\n",
       "      <th>tf</th>\n",
       "      <th>idf</th>\n",
       "    </tr>\n",
       "  </thead>\n",
       "  <tbody>\n",
       "    <tr>\n",
       "      <th>0</th>\n",
       "      <td>Автотовары</td>\n",
       "      <td>000107306p</td>\n",
       "      <td>0.000135</td>\n",
       "      <td>2.995732</td>\n",
       "    </tr>\n",
       "    <tr>\n",
       "      <th>1</th>\n",
       "      <td>Автотовары</td>\n",
       "      <td>0006</td>\n",
       "      <td>0.000135</td>\n",
       "      <td>2.995732</td>\n",
       "    </tr>\n",
       "    <tr>\n",
       "      <th>2</th>\n",
       "      <td>Автотовары</td>\n",
       "      <td>00071</td>\n",
       "      <td>0.000135</td>\n",
       "      <td>2.995732</td>\n",
       "    </tr>\n",
       "    <tr>\n",
       "      <th>3</th>\n",
       "      <td>Автотовары</td>\n",
       "      <td>001</td>\n",
       "      <td>0.000068</td>\n",
       "      <td>1.897120</td>\n",
       "    </tr>\n",
       "    <tr>\n",
       "      <th>4</th>\n",
       "      <td>Автотовары</td>\n",
       "      <td>00242</td>\n",
       "      <td>0.000068</td>\n",
       "      <td>2.995732</td>\n",
       "    </tr>\n",
       "  </tbody>\n",
       "</table>\n",
       "</div>"
      ],
      "text/plain": [
       "     category         tag        tf       idf\n",
       "0  Автотовары  000107306p  0.000135  2.995732\n",
       "1  Автотовары        0006  0.000135  2.995732\n",
       "2  Автотовары       00071  0.000135  2.995732\n",
       "3  Автотовары         001  0.000068  1.897120\n",
       "4  Автотовары       00242  0.000068  2.995732"
      ]
     },
     "execution_count": 6,
     "metadata": {},
     "output_type": "execute_result"
    }
   ],
   "source": [
    "tf = (category_x_tag_df.groupby(\n",
    "    by=['category', 'tag']\n",
    ").size().to_frame('tf') / category_x_tag_df.groupby(\n",
    "    by=['category']\n",
    ").size().to_frame('tf')).reset_index()\n",
    "\n",
    "tf = tf.join(\n",
    "    other=(category_x_tag_df.category.nunique() / category_x_tag_df.groupby(by=['tag']).category.nunique()).apply(np.log).rename('idf'),\n",
    "    how='left',\n",
    "    on='tag',\n",
    ")\n",
    "\n",
    "tf.head()"
   ]
  },
  {
   "cell_type": "code",
   "execution_count": 7,
   "id": "804d1fcd-a758-4e3e-ae43-64e124344ce1",
   "metadata": {
    "tags": []
   },
   "outputs": [
    {
     "data": {
      "text/html": [
       "<div>\n",
       "<style scoped>\n",
       "    .dataframe tbody tr th:only-of-type {\n",
       "        vertical-align: middle;\n",
       "    }\n",
       "\n",
       "    .dataframe tbody tr th {\n",
       "        vertical-align: top;\n",
       "    }\n",
       "\n",
       "    .dataframe thead th {\n",
       "        text-align: right;\n",
       "    }\n",
       "</style>\n",
       "<table border=\"1\" class=\"dataframe\">\n",
       "  <thead>\n",
       "    <tr style=\"text-align: right;\">\n",
       "      <th></th>\n",
       "      <th>category</th>\n",
       "      <th>tag</th>\n",
       "      <th>tf-idf</th>\n",
       "    </tr>\n",
       "  </thead>\n",
       "  <tbody>\n",
       "    <tr>\n",
       "      <th>0</th>\n",
       "      <td>Автотовары</td>\n",
       "      <td>000107306p</td>\n",
       "      <td>0.000405</td>\n",
       "    </tr>\n",
       "    <tr>\n",
       "      <th>1</th>\n",
       "      <td>Автотовары</td>\n",
       "      <td>0006</td>\n",
       "      <td>0.000405</td>\n",
       "    </tr>\n",
       "    <tr>\n",
       "      <th>2</th>\n",
       "      <td>Автотовары</td>\n",
       "      <td>00071</td>\n",
       "      <td>0.000405</td>\n",
       "    </tr>\n",
       "    <tr>\n",
       "      <th>3</th>\n",
       "      <td>Автотовары</td>\n",
       "      <td>001</td>\n",
       "      <td>0.000128</td>\n",
       "    </tr>\n",
       "    <tr>\n",
       "      <th>4</th>\n",
       "      <td>Автотовары</td>\n",
       "      <td>00242</td>\n",
       "      <td>0.000202</td>\n",
       "    </tr>\n",
       "  </tbody>\n",
       "</table>\n",
       "</div>"
      ],
      "text/plain": [
       "     category         tag    tf-idf\n",
       "0  Автотовары  000107306p  0.000405\n",
       "1  Автотовары        0006  0.000405\n",
       "2  Автотовары       00071  0.000405\n",
       "3  Автотовары         001  0.000128\n",
       "4  Автотовары       00242  0.000202"
      ]
     },
     "execution_count": 7,
     "metadata": {},
     "output_type": "execute_result"
    }
   ],
   "source": [
    "tf['tf-idf'] = (tf['tf'] * tf['idf']).rename('tf-idf')\n",
    "tf = tf[['category', 'tag', 'tf-idf']]\n",
    "tf.head()"
   ]
  },
  {
   "cell_type": "markdown",
   "id": "0fdb2c53-c0ea-41dc-b6e5-e3fef8d5925a",
   "metadata": {},
   "source": [
    "Подбираем threshold"
   ]
  },
  {
   "cell_type": "code",
   "execution_count": 8,
   "id": "2fa2a71c-71f1-4a6b-978b-d60482ef44b9",
   "metadata": {
    "tags": []
   },
   "outputs": [
    {
     "data": {
      "image/png": "[encoded data removed]",
      "text/plain": [
       "<Figure size 640x480 with 1 Axes>"
      ]
     },
     "metadata": {},
     "output_type": "display_data"
    }
   ],
   "source": [
    "xx = np.sort(tf['tf-idf'].to_numpy())\n",
    "threshold = np.percentile(tf['tf-idf'].to_numpy(), q=99)\n",
    "\n",
    "plt.plot(xx);\n",
    "plt.vlines(x=np.argmax(xx >= threshold), ymin=-0.01, ymax=0.201, color='red');\n",
    "plt.title('tf-idf');\n",
    "plt.show();"
   ]
  },
  {
   "cell_type": "markdown",
   "id": "48ab067f-0050-435f-b448-c0fe1dc14928",
   "metadata": {},
   "source": [
    "Посмотрим на эти слова"
   ]
  },
  {
   "cell_type": "code",
   "execution_count": 9,
   "id": "9e71c515-eb31-43c3-bff0-18f269b50cf7",
   "metadata": {
    "tags": []
   },
   "outputs": [
    {
     "data": {
      "text/html": [
       "<div>\n",
       "<style scoped>\n",
       "    .dataframe tbody tr th:only-of-type {\n",
       "        vertical-align: middle;\n",
       "    }\n",
       "\n",
       "    .dataframe tbody tr th {\n",
       "        vertical-align: top;\n",
       "    }\n",
       "\n",
       "    .dataframe thead th {\n",
       "        text-align: right;\n",
       "    }\n",
       "</style>\n",
       "<table border=\"1\" class=\"dataframe\">\n",
       "  <thead>\n",
       "    <tr style=\"text-align: right;\">\n",
       "      <th></th>\n",
       "      <th>tag</th>\n",
       "      <th>tf-idf</th>\n",
       "    </tr>\n",
       "    <tr>\n",
       "      <th>category</th>\n",
       "      <th></th>\n",
       "      <th></th>\n",
       "    </tr>\n",
       "  </thead>\n",
       "  <tbody>\n",
       "    <tr>\n",
       "      <th>Автотовары</th>\n",
       "      <td>стартер</td>\n",
       "      <td>0.040078</td>\n",
       "    </tr>\n",
       "    <tr>\n",
       "      <th>Аксессуары</th>\n",
       "      <td>капор</td>\n",
       "      <td>0.033475</td>\n",
       "    </tr>\n",
       "    <tr>\n",
       "      <th>Бытовая техника</th>\n",
       "      <td>увлажнитель</td>\n",
       "      <td>0.060849</td>\n",
       "    </tr>\n",
       "    <tr>\n",
       "      <th>Детям</th>\n",
       "      <td>комбинезон</td>\n",
       "      <td>0.033703</td>\n",
       "    </tr>\n",
       "    <tr>\n",
       "      <th>Для ремонта</th>\n",
       "      <td>бетона</td>\n",
       "      <td>0.025391</td>\n",
       "    </tr>\n",
       "    <tr>\n",
       "      <th>Дом</th>\n",
       "      <td>тюль</td>\n",
       "      <td>0.020540</td>\n",
       "    </tr>\n",
       "    <tr>\n",
       "      <th>Женщинам</th>\n",
       "      <td>оверсайз</td>\n",
       "      <td>0.045051</td>\n",
       "    </tr>\n",
       "    <tr>\n",
       "      <th>Здоровье</th>\n",
       "      <td>гребенчатый</td>\n",
       "      <td>0.024752</td>\n",
       "    </tr>\n",
       "    <tr>\n",
       "      <th>Зоотовары</th>\n",
       "      <td>кошек</td>\n",
       "      <td>0.083840</td>\n",
       "    </tr>\n",
       "    <tr>\n",
       "      <th>Игрушки</th>\n",
       "      <td>конструктор</td>\n",
       "      <td>0.030184</td>\n",
       "    </tr>\n",
       "    <tr>\n",
       "      <th>Канцтовары</th>\n",
       "      <td>карандаши</td>\n",
       "      <td>0.040777</td>\n",
       "    </tr>\n",
       "    <tr>\n",
       "      <th>Книги</th>\n",
       "      <td>книга</td>\n",
       "      <td>0.019504</td>\n",
       "    </tr>\n",
       "    <tr>\n",
       "      <th>Красота</th>\n",
       "      <td>шампунь</td>\n",
       "      <td>0.019655</td>\n",
       "    </tr>\n",
       "    <tr>\n",
       "      <th>Мебель</th>\n",
       "      <td>кресло</td>\n",
       "      <td>0.053935</td>\n",
       "    </tr>\n",
       "    <tr>\n",
       "      <th>Мужчинам</th>\n",
       "      <td>мужская</td>\n",
       "      <td>0.066269</td>\n",
       "    </tr>\n",
       "    <tr>\n",
       "      <th>Обувь</th>\n",
       "      <td>ботинки</td>\n",
       "      <td>0.207748</td>\n",
       "    </tr>\n",
       "    <tr>\n",
       "      <th>Продукты</th>\n",
       "      <td>сахара</td>\n",
       "      <td>0.026216</td>\n",
       "    </tr>\n",
       "    <tr>\n",
       "      <th>Сад и дача</th>\n",
       "      <td>садовый</td>\n",
       "      <td>0.020259</td>\n",
       "    </tr>\n",
       "    <tr>\n",
       "      <th>Электроника</th>\n",
       "      <td>беспроводные</td>\n",
       "      <td>0.055448</td>\n",
       "    </tr>\n",
       "    <tr>\n",
       "      <th>Ювелирные изделия</th>\n",
       "      <td>925</td>\n",
       "      <td>0.105112</td>\n",
       "    </tr>\n",
       "  </tbody>\n",
       "</table>\n",
       "</div>"
      ],
      "text/plain": [
       "                            tag    tf-idf\n",
       "category                                 \n",
       "Автотовары              стартер  0.040078\n",
       "Аксессуары                капор  0.033475\n",
       "Бытовая техника     увлажнитель  0.060849\n",
       "Детям                комбинезон  0.033703\n",
       "Для ремонта              бетона  0.025391\n",
       "Дом                        тюль  0.020540\n",
       "Женщинам               оверсайз  0.045051\n",
       "Здоровье            гребенчатый  0.024752\n",
       "Зоотовары                 кошек  0.083840\n",
       "Игрушки             конструктор  0.030184\n",
       "Канцтовары            карандаши  0.040777\n",
       "Книги                     книга  0.019504\n",
       "Красота                 шампунь  0.019655\n",
       "Мебель                   кресло  0.053935\n",
       "Мужчинам                мужская  0.066269\n",
       "Обувь                   ботинки  0.207748\n",
       "Продукты                 сахара  0.026216\n",
       "Сад и дача              садовый  0.020259\n",
       "Электроника        беспроводные  0.055448\n",
       "Ювелирные изделия           925  0.105112"
      ]
     },
     "execution_count": 9,
     "metadata": {},
     "output_type": "execute_result"
    }
   ],
   "source": [
    "tf.sort_values('tf-idf', ascending=False).groupby(by='category').first()"
   ]
  },
  {
   "cell_type": "code",
   "execution_count": 10,
   "id": "9e36bad4-3128-4f0a-b865-5231662bc229",
   "metadata": {
    "tags": []
   },
   "outputs": [
    {
     "data": {
      "text/plain": [
       "485"
      ]
     },
     "execution_count": 10,
     "metadata": {},
     "output_type": "execute_result"
    }
   ],
   "source": [
    "kwords = tf.loc[tf['tf-idf'] >= threshold]['tag'].to_list()\n",
    "len(kwords)"
   ]
  },
  {
   "cell_type": "code",
   "execution_count": 11,
   "id": "ee322f62-2f0d-4626-932f-9b4a6fa49c93",
   "metadata": {
    "tags": []
   },
   "outputs": [],
   "source": [
    "X = data_df['name'].to_numpy()\n",
    "Y = data_df['category'].to_numpy()"
   ]
  },
  {
   "cell_type": "markdown",
   "id": "4fc2da9c-4c11-4ce1-a6e9-695667a4e4b4",
   "metadata": {},
   "source": [
    "Чтоб не перебирать все слова, выберем частые по tf-idf"
   ]
  },
  {
   "cell_type": "markdown",
   "id": "7be3504a-2d97-45ac-9cd0-ae7798527fd1",
   "metadata": {},
   "source": [
    "## Create model"
   ]
  },
  {
   "cell_type": "code",
   "execution_count": 12,
   "id": "35182aa0-0884-47e6-843c-ddebab7958e8",
   "metadata": {
    "tags": []
   },
   "outputs": [],
   "source": [
    "from hoko.models import DecisionTextTree"
   ]
  },
  {
   "cell_type": "code",
   "execution_count": 13,
   "id": "61b9cd55-fd4a-4217-af13-cc748fd9401a",
   "metadata": {
    "tags": []
   },
   "outputs": [],
   "source": [
    "# Для примера ограничим глубину\n",
    "\n",
    "model = DecisionTextTree(kwords_list=kwords, depth=2)"
   ]
  },
  {
   "cell_type": "code",
   "execution_count": 14,
   "id": "3c1008b2-26ff-417c-a398-b6edd5a6bf1f",
   "metadata": {
    "tags": []
   },
   "outputs": [
    {
     "name": "stdout",
     "output_type": "stream",
     "text": [
      "CPU times: user 25.2 s, sys: 4.61 ms, total: 25.2 s\n",
      "Wall time: 25.3 s\n"
     ]
    }
   ],
   "source": [
    "%%time\n",
    "# Обучаем\n",
    "model.fit(X, Y)"
   ]
  },
  {
   "cell_type": "code",
   "execution_count": 15,
   "id": "ccaeeebe-d3b2-4522-9b07-5366dc09b6d1",
   "metadata": {
    "tags": []
   },
   "outputs": [
    {
     "name": "stdout",
     "output_type": "stream",
     "text": [
      "accuracy score: 0.1462200986061233\n"
     ]
    }
   ],
   "source": [
    "# замеряем точность на тестовой выборке\n",
    "\n",
    "Y_pred = model.predict(X)\n",
    "print(f'accuracy score: {(Y_pred == Y).sum() / Y.shape[0]}')"
   ]
  },
  {
   "cell_type": "code",
   "execution_count": 16,
   "id": "0755f151-93e7-4c95-b0b0-393828702f82",
   "metadata": {
    "tags": []
   },
   "outputs": [
    {
     "name": "stdout",
     "output_type": "stream",
     "text": [
      "(case\n",
      "   when 1=1 and {{ feature }} like '%женский%' and {{ feature }} like '%авто%' then 'Аксессуары'\n",
      "   when 1=1 and {{ feature }} like '%женский%' and {{ feature }} not like '%авто%' then 'Женщинам'\n",
      "   when 1=1 and {{ feature }} not like '%женский%' and {{ feature }} like '%женская%' then 'Женщинам'\n",
      "   when 1=1 and {{ feature }} not like '%женский%' and {{ feature }} not like '%женская%' then 'Мужчинам'\n",
      "end) as {{ target }}\n"
     ]
    }
   ],
   "source": [
    "print(\"(case\")\n",
    "for sql_cond in model.compile():\n",
    "    print(f\"   {sql_cond}\")\n",
    "print(\"end) as {{ target }}\")"
   ]
  },
  {
   "cell_type": "code",
   "execution_count": null,
   "id": "54b618a2-5065-4a92-8802-476396fa611c",
   "metadata": {},
   "outputs": [],
   "source": []
  }
 ],
 "metadata": {
  "kernelspec": {
   "display_name": "Python 3 (ipykernel)",
   "language": "python",
   "name": "python3"
  },
  "language_info": {
   "codemirror_mode": {
    "name": "ipython",
    "version": 3
   },
   "file_extension": ".py",
   "mimetype": "text/x-python",
   "name": "python",
   "nbconvert_exporter": "python",
   "pygments_lexer": "ipython3",
   "version": "3.10.9"
  }
 },
 "nbformat": 4,
 "nbformat_minor": 5
}
